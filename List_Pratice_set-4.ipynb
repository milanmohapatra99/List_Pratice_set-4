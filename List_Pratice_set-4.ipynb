{
 "cells": [
  {
   "cell_type": "markdown",
   "id": "db62f740",
   "metadata": {},
   "source": [
    "LIST AND TUPLES"
   ]
  },
  {
   "cell_type": "code",
   "execution_count": 2,
   "id": "099bd556",
   "metadata": {},
   "outputs": [
    {
     "name": "stdout",
     "output_type": "stream",
     "text": [
      "Enter Fruit no One:-apple\n",
      "Enter Fruit no Two:-orange\n",
      "Enter Fruit no Three:-pineapple\n",
      "Enter Fruit no Four:-lichi\n",
      "Enter Fruit no Five:-strabery\n",
      "Enter Fruit no Six:-guava\n",
      "Enter Fruit no Seven:-grapes\n",
      "['apple', 'orange', 'pineapple', 'lichi', 'strabery', 'guava', 'grapes']\n"
     ]
    }
   ],
   "source": [
    "#w.a.p to store seven fruits in a list entered by user\n",
    "f1 = input(\"Enter Fruit no One:-\")\n",
    "f2 = input(\"Enter Fruit no Two:-\")\n",
    "f3 = input(\"Enter Fruit no Three:-\")\n",
    "f4 = input(\"Enter Fruit no Four:-\")\n",
    "f5 = input(\"Enter Fruit no Five:-\")\n",
    "f6 = input(\"Enter Fruit no Six:-\")\n",
    "f7 = input(\"Enter Fruit no Seven:-\")\n",
    "myfruitlist=[f1,f2,f3,f4,f5,f6,f7]\n",
    "print(myfruitlist)"
   ]
  },
  {
   "cell_type": "code",
   "execution_count": 3,
   "id": "08eb996d",
   "metadata": {},
   "outputs": [
    {
     "name": "stdout",
     "output_type": "stream",
     "text": [
      "Enter Marks for Student One:-2\n",
      "Enter Marks for Student Two:-3\n",
      "Enter Marks for Student Three:-4\n",
      "Enter Marks for Student Four:-9\n",
      "Enter Marks for Student Five:-7\n",
      "Enter Marks for Student Six:-64\n",
      "[2, 3, 4, 7, 9, 64]\n"
     ]
    }
   ],
   "source": [
    "#w.a.p to accept marks of 6 students and display them in a solid manner\n",
    "m1 = int(input(\"Enter Marks for Student One:-\"))\n",
    "m2 = int(input(\"Enter Marks for Student Two:-\"))\n",
    "m3 = int(input(\"Enter Marks for Student Three:-\"))\n",
    "m4 = int(input(\"Enter Marks for Student Four:-\"))\n",
    "m5 = int(input(\"Enter Marks for Student Five:-\"))\n",
    "m6 = int(input(\"Enter Marks for Student Six:-\"))\n",
    "mylist=[m1,m2,m3,m4,m5,m6]\n",
    "mylist.sort()\n",
    "print(mylist)\n"
   ]
  },
  {
   "cell_type": "code",
   "execution_count": 5,
   "id": "ff5c712d",
   "metadata": {},
   "outputs": [
    {
     "ename": "TypeError",
     "evalue": "'tuple' object does not support item assignment",
     "output_type": "error",
     "traceback": [
      "\u001b[1;31m---------------------------------------------------------------------------\u001b[0m",
      "\u001b[1;31mTypeError\u001b[0m                                 Traceback (most recent call last)",
      "\u001b[1;32m~\\AppData\\Local\\Temp/ipykernel_6224/1392399567.py\u001b[0m in \u001b[0;36m<module>\u001b[1;34m\u001b[0m\n\u001b[0;32m      1\u001b[0m \u001b[1;31m#w.a.p to check that tuples can not changed in python\u001b[0m\u001b[1;33m\u001b[0m\u001b[1;33m\u001b[0m\u001b[0m\n\u001b[0;32m      2\u001b[0m \u001b[0ma\u001b[0m \u001b[1;33m=\u001b[0m \u001b[1;33m(\u001b[0m\u001b[1;36m2\u001b[0m\u001b[1;33m,\u001b[0m\u001b[1;36m4\u001b[0m\u001b[1;33m,\u001b[0m\u001b[1;36m5\u001b[0m\u001b[1;33m,\u001b[0m\u001b[1;36m3\u001b[0m\u001b[1;33m,\u001b[0m\u001b[1;36m2\u001b[0m\u001b[1;33m)\u001b[0m\u001b[1;33m\u001b[0m\u001b[1;33m\u001b[0m\u001b[0m\n\u001b[1;32m----> 3\u001b[1;33m \u001b[0ma\u001b[0m\u001b[1;33m[\u001b[0m\u001b[1;36m0\u001b[0m\u001b[1;33m]\u001b[0m\u001b[1;33m=\u001b[0m\u001b[1;36m45\u001b[0m\u001b[1;33m\u001b[0m\u001b[1;33m\u001b[0m\u001b[0m\n\u001b[0m",
      "\u001b[1;31mTypeError\u001b[0m: 'tuple' object does not support item assignment"
     ]
    }
   ],
   "source": [
    "#w.a.p to check that tuples can not changed in python\n",
    "a = (2,4,5,3,2)\n",
    "a[0]=45"
   ]
  },
  {
   "cell_type": "code",
   "execution_count": 6,
   "id": "ef1abd8d",
   "metadata": {},
   "outputs": [
    {
     "name": "stdout",
     "output_type": "stream",
     "text": [
      "69\n"
     ]
    }
   ],
   "source": [
    "#w.a.p to sum a list with 4 numbers\n",
    "a=[2,4,56,7]\n",
    "print(sum(a))\n"
   ]
  },
  {
   "cell_type": "code",
   "execution_count": 9,
   "id": "78a45374",
   "metadata": {},
   "outputs": [
    {
     "name": "stdout",
     "output_type": "stream",
     "text": [
      "3\n"
     ]
    }
   ],
   "source": [
    "#w.a.p to count the number of zeros in the following tuples a=(7,0,8,0,9)\n",
    "a = (7,0,8,0,0,9)\n",
    "print(a.count(0))"
   ]
  },
  {
   "cell_type": "code",
   "execution_count": null,
   "id": "a86d1e43",
   "metadata": {},
   "outputs": [],
   "source": []
  }
 ],
 "metadata": {
  "kernelspec": {
   "display_name": "Python 3 (ipykernel)",
   "language": "python",
   "name": "python3"
  },
  "language_info": {
   "codemirror_mode": {
    "name": "ipython",
    "version": 3
   },
   "file_extension": ".py",
   "mimetype": "text/x-python",
   "name": "python",
   "nbconvert_exporter": "python",
   "pygments_lexer": "ipython3",
   "version": "3.9.7"
  }
 },
 "nbformat": 4,
 "nbformat_minor": 5
}
